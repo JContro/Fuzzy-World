{
 "cells": [
  {
   "cell_type": "code",
   "execution_count": 115,
   "metadata": {},
   "outputs": [],
   "source": [
    "import matplotlib.pyplot as plt\n",
    "import numpy as np\n",
    "import pandas as pd\n",
    "from sklearn.metrics import plot_confusion_matrix\n",
    "from sklearn.utils import resample\n",
    "\n",
    "import utils as u\n",
    "from model_utils import Model\n",
    "\n",
    "# from sklearn.ensemble import RandomForestClassifier\n",
    "# from sklearn.model_selection import cross_val_score\n",
    "# from sklearn.metrics import classification_report, confusion_matrix\n",
    "# from sklearn.metrics import roc_auc_score\n",
    "# import matplotlib.pyplot as plt\n",
    "# from sklearn.metrics import precision_score, recall_score, roc_auc_score, roc_curve\n",
    "\n",
    "pd.set_option(\"display.max_columns\", 100)\n",
    "pd.set_option(\"display.max_rows\", 1000)"
   ]
  },
  {
   "cell_type": "markdown",
   "metadata": {},
   "source": [
    "### Ingesting the dataset"
   ]
  },
  {
   "cell_type": "code",
   "execution_count": 2,
   "metadata": {},
   "outputs": [],
   "source": [
    "SPREADSHEET_PATH = '~/Desktop/Data/Matching_process/fuzzy_match_app_check.xlsx'\n",
    "df = pd.read_excel(SPREADSHEET_PATH, sheet_name=0)"
   ]
  },
  {
   "cell_type": "markdown",
   "metadata": {},
   "source": [
    "### Preparing list for NLP"
   ]
  },
  {
   "cell_type": "code",
   "execution_count": 3,
   "metadata": {},
   "outputs": [],
   "source": [
    "# These are words to\n",
    "words_to_ignore = [\n",
    "    \"capital\",\n",
    "    \"management\",\n",
    "    \"partners\",\n",
    "    \"group\",\n",
    "    \"&\",\n",
    "    \"asset\",\n",
    "    \"investment\",\n",
    "    \"of\",\n",
    "    \"fund\",\n",
    "    \"services\",\n",
    "    \"insurance\",\n",
    "    \"global\",\n",
    "    \"financial\",\n",
    "    \"the\",\n",
    "    \"investments\",\n",
    "    \"consulting\",\n",
    "    \"bank\",\n",
    "    \"international\",\n",
    "    \"solutions\",\n",
    "    \"wealth\",\n",
    "    \"pension\",\n",
    "    \"associates\",\n",
    "    \"media\",\n",
    "    \"new\",\n",
    "    \"london\",\n",
    "    \"risk\",\n",
    "    \"securities\",\n",
    "    \"real\",\n",
    "    \"gaming\",\n",
    "    \"estate\",\n",
    "    \"trust\",\n",
    "    \"co\",\n",
    "    \"office\",\n",
    "    \"family\",\n",
    "    \"company\",\n",
    "    \"de\",\n",
    "    \"research\",\n",
    "    \"funds\",\n",
    "    \"foundation\",\n",
    "]\n",
    "\n",
    "# These common words will be used in searching for acronyms\n",
    "common_words = []\n",
    "with open(\"1-1000.txt\") as f:\n",
    "    for line in f:\n",
    "        common_words.append(line.rstrip())"
   ]
  },
  {
   "cell_type": "markdown",
   "metadata": {},
   "source": [
    "### Create a new dataset with the features to learn from"
   ]
  },
  {
   "cell_type": "code",
   "execution_count": 13,
   "metadata": {},
   "outputs": [],
   "source": [
    "base_df = pd.DataFrame()\n",
    "\n",
    "base_df[\"name_a\"] = df[\"name_clean_co_pam\"]\n",
    "base_df[\"name_b\"] = df[\"match_option\"]\n",
    "\n",
    "# Get the acronyms for a and b\n",
    "base_df[\"acr_a\"] = base_df[\"name_a\"].apply(\n",
    "    lambda x: u.get_acronym(x, words_to_ignore, common_words)\n",
    ")\n",
    "base_df[\"acr_b\"] = base_df[\"name_b\"].apply(\n",
    "    lambda x: u.get_acronym(x, words_to_ignore, common_words)\n",
    ")\n",
    "\n",
    "# Create a numerical field for the same acronyms\n",
    "base_df[\"acr_match\"] = base_df.apply(\n",
    "    lambda row: u.acronym_checker(row[\"acr_a\"], row[\"acr_b\"]), axis=1\n",
    ")\n",
    "\n",
    "# Get the number of words\n",
    "base_df[\"num_words_a\"] = base_df[\"name_a\"].apply(lambda x: u.get_number_words(x))\n",
    "base_df[\"num_words_b\"] = base_df[\"name_b\"].apply(lambda x: u.get_number_words(x))\n",
    "\n",
    "# Get the length of the strings\n",
    "base_df[\"len_a\"] = base_df[\"name_a\"].apply(lambda x: len(str(x)))\n",
    "base_df[\"len_b\"] = base_df[\"name_b\"].apply(lambda x: len(str(x)))\n",
    "\n",
    "# Get Jaro Winkler distance\n",
    "base_df[\"JW_distance\"] = base_df.apply(\n",
    "    lambda row: u.jaro_winkler_distance(row[\"name_a\"], row[\"name_b\"]), axis=1\n",
    ")\n",
    "\n",
    "# Get Levenshtein distance\n",
    "base_df[\"LV_distance\"] = base_df.apply(\n",
    "    lambda row: u.levenshtein_distance(row[\"name_a\"], row[\"name_b\"]), axis=1\n",
    ")\n",
    "\n",
    "# Get the target\n",
    "base_df[\"target\"] = df[\"accept_match\"].apply(lambda x: u.convert_target(x))"
   ]
  },
  {
   "cell_type": "markdown",
   "metadata": {},
   "source": [
    "#### Split the dataset into train, dev, test set"
   ]
  },
  {
   "cell_type": "markdown",
   "metadata": {},
   "source": [
    "##### Downsample Target Column"
   ]
  },
  {
   "cell_type": "code",
   "execution_count": 32,
   "metadata": {},
   "outputs": [],
   "source": [
    "base_df = base_df.sample(frac=1).reset_index(drop=True)"
   ]
  },
  {
   "cell_type": "code",
   "execution_count": 113,
   "metadata": {},
   "outputs": [
    {
     "data": {
      "text/plain": [
       "1    688\n",
       "0    688\n",
       "Name: target, dtype: int64"
      ]
     },
     "execution_count": 113,
     "metadata": {},
     "output_type": "execute_result"
    }
   ],
   "source": [
    "# Separate majority and minority classes\n",
    "majority_df = base_df[base_df.target == base_df[\"target\"].value_counts().index[0]]\n",
    "minority_df = base_df[base_df.target == base_df[\"target\"].value_counts().index[-1]]\n",
    "\n",
    "# Downsample majority class\n",
    "majority_downsampled_df = resample(\n",
    "    majority_df,\n",
    "    replace=False,  # sample without replacement\n",
    "    n_samples=len(minority_df),  # to match minority class\n",
    "    random_state=123,\n",
    ")  # reproducible results\n",
    "\n",
    "# Combine minority class with downsampled majority class\n",
    "downsampled_df = pd.concat([majority_downsampled_df, minority_df])\n",
    "\n",
    "# Display new class counts\n",
    "downsampled_df.target.value_counts()"
   ]
  },
  {
   "cell_type": "code",
   "execution_count": 99,
   "metadata": {},
   "outputs": [],
   "source": [
    "non_numerical_cols = [\"name_a\", \"name_b\", \"acr_a\", \"acr_b\"]\n",
    "feature_columns = [\n",
    "    \"acr_match\",\n",
    "    \"JW_distance\",\n",
    "    \"LV_distance\",\n",
    "    \"num_words_a\",\n",
    "    \"num_words_b\",\n",
    "    \"len_a\",\n",
    "    \"len_b\",\n",
    "]\n",
    "target_column = \"target\"\n",
    "\n",
    "X = downsampled_df.drop(\"target\", axis=1)\n",
    "y = downsampled_df.target\n",
    "\n",
    "X_train, X_test, y_train, y_test = train_test_split(\n",
    "    X, y, test_size=0.25, random_state=42\n",
    ")\n",
    "\n",
    "X_train = X_train[feature_columns]\n",
    "X_test = X_test[feature_columns]"
   ]
  },
  {
   "cell_type": "markdown",
   "metadata": {},
   "source": [
    "#### Train Random Forest model"
   ]
  },
  {
   "cell_type": "code",
   "execution_count": 105,
   "metadata": {},
   "outputs": [
    {
     "name": "stdout",
     "output_type": "stream",
     "text": [
      "Recall Baseline: 1.0 Test: 0.87 Train: 0.99\n",
      "Precision Baseline: 0.48 Test: 0.92 Train: 0.99\n",
      "Roc Baseline: 0.5 Test: 0.95 Train: 1.0\n"
     ]
    },
    {
     "data": {
      "image/png": "[encoded data removed]",
      "text/plain": [
       "<Figure size 576x432 with 1 Axes>"
      ]
     },
     "metadata": {
      "needs_background": "light"
     },
     "output_type": "display_data"
    },
    {
     "data": {
      "text/plain": [
       "<Figure size 432x288 with 0 Axes>"
      ]
     },
     "metadata": {},
     "output_type": "display_data"
    }
   ],
   "source": [
    "my_model = Model(X_train, y_train, X_test, y_test)\n",
    "classified = my_model.train_RF(return_classifier=True)\n",
    "my_model.train_RF()"
   ]
  },
  {
   "cell_type": "markdown",
   "metadata": {},
   "source": [
    "### Confusion Matrix"
   ]
  },
  {
   "cell_type": "code",
   "execution_count": 107,
   "metadata": {},
   "outputs": [
    {
     "name": "stdout",
     "output_type": "stream",
     "text": [
      "Confusion matrix, without normalization\n",
      "[[165  13]\n",
      " [ 21 145]]\n",
      "Normalized confusion matrix\n",
      "[[0.93 0.07]\n",
      " [0.13 0.87]]\n"
     ]
    },
    {
     "data": {
      "image/png": "[encoded data removed]",
      "text/plain": [
       "<Figure size 432x288 with 2 Axes>"
      ]
     },
     "metadata": {
      "needs_background": "light"
     },
     "output_type": "display_data"
    },
    {
     "data": {
      "image/png": "[encoded data removed]",
      "text/plain": [
       "<Figure size 432x288 with 2 Axes>"
      ]
     },
     "metadata": {
      "needs_background": "light"
     },
     "output_type": "display_data"
    }
   ],
   "source": [
    "np.set_printoptions(precision=2)\n",
    "\n",
    "# Plot non-normalized confusion matrix\n",
    "titles_options = [\n",
    "    (\"Confusion matrix, without normalization\", None),\n",
    "    (\"Normalized confusion matrix\", \"true\"),\n",
    "]\n",
    "for title, normalize in titles_options:\n",
    "    disp = plot_confusion_matrix(\n",
    "        classified,\n",
    "        X_test,\n",
    "        y_test,\n",
    "        # display_labels=class_names,\n",
    "        cmap=plt.cm.Blues,\n",
    "        normalize=normalize,\n",
    "    )\n",
    "    disp.ax_.set_title(title)\n",
    "\n",
    "    print(title)\n",
    "    print(disp.confusion_matrix)\n",
    "\n",
    "plt.show()"
   ]
  }
 ],
 "metadata": {
  "kernelspec": {
   "display_name": "Python 3",
   "language": "python",
   "name": "python3"
  },
  "language_info": {
   "codemirror_mode": {
    "name": "ipython",
    "version": 3
   },
   "file_extension": ".py",
   "mimetype": "text/x-python",
   "name": "python",
   "nbconvert_exporter": "python",
   "pygments_lexer": "ipython3",
   "version": "3.7.7"
  }
 },
 "nbformat": 4,
 "nbformat_minor": 4
}
