{
 "cells": [
  {
   "cell_type": "markdown",
   "metadata": {},
   "source": [
    "# Entity Reconciliation Model and Analysis"
   ]
  },
  {
   "cell_type": "code",
   "execution_count": 4,
   "metadata": {},
   "outputs": [
    {
     "data": {
      "text/plain": [
       "'/usr/local/opt/python/bin/python3.7'"
      ]
     },
     "execution_count": 4,
     "metadata": {},
     "output_type": "execute_result"
    }
   ],
   "source": [
    "import sys\n",
    "sys.executable"
   ]
  },
  {
   "cell_type": "code",
   "execution_count": 5,
   "metadata": {},
   "outputs": [],
   "source": [
    "import pandas as pd\n",
    "\n",
    "pd.set_option(\"display.max_columns\", 101)"
   ]
  },
  {
   "cell_type": "markdown",
   "metadata": {},
   "source": [
    "## Data imports"
   ]
  },
  {
   "cell_type": "markdown",
   "metadata": {},
   "source": [
    "### Investors"
   ]
  },
  {
   "cell_type": "code",
   "execution_count": 7,
   "metadata": {},
   "outputs": [],
   "source": [
    "investors_path = \"~/Desktop/Data/Matching_process/investors_to_merge.csv\"\n",
    "\n",
    "investors_df = pd.read_csv(investors_path)"
   ]
  },
  {
   "cell_type": "code",
   "execution_count": 8,
   "metadata": {},
   "outputs": [
    {
     "data": {
      "text/html": [
       "<div>\n",
       "<style scoped>\n",
       "    .dataframe tbody tr th:only-of-type {\n",
       "        vertical-align: middle;\n",
       "    }\n",
       "\n",
       "    .dataframe tbody tr th {\n",
       "        vertical-align: top;\n",
       "    }\n",
       "\n",
       "    .dataframe thead th {\n",
       "        text-align: right;\n",
       "    }\n",
       "</style>\n",
       "<table border=\"1\" class=\"dataframe\">\n",
       "  <thead>\n",
       "    <tr style=\"text-align: right;\">\n",
       "      <th></th>\n",
       "      <th>name</th>\n",
       "      <th>address_country_name</th>\n",
       "      <th>type_name</th>\n",
       "      <th>currency_short_name</th>\n",
       "      <th>type_name.1</th>\n",
       "      <th>roles_name</th>\n",
       "      <th>summary</th>\n",
       "      <th>id</th>\n",
       "      <th>company_type</th>\n",
       "      <th>name_clean</th>\n",
       "      <th>name_implied_type</th>\n",
       "      <th>name_implied_country</th>\n",
       "      <th>name_clean_co</th>\n",
       "    </tr>\n",
       "  </thead>\n",
       "  <tbody>\n",
       "    <tr>\n",
       "      <th>0</th>\n",
       "      <td>B&amp;CE Staff Pension Scheme</td>\n",
       "      <td>United Kingdom</td>\n",
       "      <td>Corporate D.B.</td>\n",
       "      <td>GBP</td>\n",
       "      <td>Corporate D.B.</td>\n",
       "      <td>Auditor</td>\n",
       "      <td>&lt;p&gt;As of Mar. 31, 2017, the&amp;nbsp;17.62% alloca...</td>\n",
       "      <td>2147271350</td>\n",
       "      <td>investor</td>\n",
       "      <td>B&amp;CE STAFF PENSION SCHEME</td>\n",
       "      <td>NaN</td>\n",
       "      <td>NaN</td>\n",
       "      <td>B&amp;CE STAFF PENSION SCHEME</td>\n",
       "    </tr>\n",
       "    <tr>\n",
       "      <th>1</th>\n",
       "      <td>BMO Global Asset Management</td>\n",
       "      <td>United Kingdom</td>\n",
       "      <td>Corporate D.B.</td>\n",
       "      <td>GBP</td>\n",
       "      <td>Corporate D.B.</td>\n",
       "      <td>Actuary</td>\n",
       "      <td>NaN</td>\n",
       "      <td>2147321728</td>\n",
       "      <td>investor</td>\n",
       "      <td>BMO GLOBAL ASSET MANAGEMENT</td>\n",
       "      <td>NaN</td>\n",
       "      <td>NaN</td>\n",
       "      <td>BMO GLOBAL ASSET MANAGEMENT</td>\n",
       "    </tr>\n",
       "    <tr>\n",
       "      <th>2</th>\n",
       "      <td>BMO Global Asset Management</td>\n",
       "      <td>NaN</td>\n",
       "      <td>Corporate D.B.</td>\n",
       "      <td>GBP</td>\n",
       "      <td>Corporate D.B.</td>\n",
       "      <td>Auditor</td>\n",
       "      <td>NaN</td>\n",
       "      <td>2147321728</td>\n",
       "      <td>investor</td>\n",
       "      <td>BMO GLOBAL ASSET MANAGEMENT</td>\n",
       "      <td>NaN</td>\n",
       "      <td>NaN</td>\n",
       "      <td>BMO GLOBAL ASSET MANAGEMENT</td>\n",
       "    </tr>\n",
       "    <tr>\n",
       "      <th>3</th>\n",
       "      <td>Cigna Europe Insurance Company</td>\n",
       "      <td>Belgium</td>\n",
       "      <td>Insurance</td>\n",
       "      <td>EUR</td>\n",
       "      <td>Insurance</td>\n",
       "      <td>NaN</td>\n",
       "      <td>NaN</td>\n",
       "      <td>2147321511</td>\n",
       "      <td>investor</td>\n",
       "      <td>CIGNA EUROPE INSURANCE COMPANY</td>\n",
       "      <td>['Corporation']</td>\n",
       "      <td>['United States of America']</td>\n",
       "      <td>CIGNA EUROPE INSURANCE</td>\n",
       "    </tr>\n",
       "    <tr>\n",
       "      <th>4</th>\n",
       "      <td>Dr Martens - Airwair International</td>\n",
       "      <td>United Kingdom</td>\n",
       "      <td>Corporate D.B.</td>\n",
       "      <td>GBP</td>\n",
       "      <td>Corporate D.B.</td>\n",
       "      <td>Auditor</td>\n",
       "      <td>&lt;p&gt;As of March 31, 2017, the 28.95%&amp;nbsp;multi...</td>\n",
       "      <td>2147320659</td>\n",
       "      <td>investor</td>\n",
       "      <td>DR MARTENS AIRWAIR INTERNATIONAL</td>\n",
       "      <td>NaN</td>\n",
       "      <td>NaN</td>\n",
       "      <td>DR MARTENS AIRWAIR INTERNATIONAL</td>\n",
       "    </tr>\n",
       "  </tbody>\n",
       "</table>\n",
       "</div>"
      ],
      "text/plain": [
       "                                 name address_country_name       type_name  \\\n",
       "0           B&CE Staff Pension Scheme       United Kingdom  Corporate D.B.   \n",
       "1         BMO Global Asset Management       United Kingdom  Corporate D.B.   \n",
       "2         BMO Global Asset Management                  NaN  Corporate D.B.   \n",
       "3      Cigna Europe Insurance Company              Belgium       Insurance   \n",
       "4  Dr Martens - Airwair International       United Kingdom  Corporate D.B.   \n",
       "\n",
       "  currency_short_name     type_name.1 roles_name  \\\n",
       "0                 GBP  Corporate D.B.    Auditor   \n",
       "1                 GBP  Corporate D.B.    Actuary   \n",
       "2                 GBP  Corporate D.B.    Auditor   \n",
       "3                 EUR       Insurance        NaN   \n",
       "4                 GBP  Corporate D.B.    Auditor   \n",
       "\n",
       "                                             summary          id company_type  \\\n",
       "0  <p>As of Mar. 31, 2017, the&nbsp;17.62% alloca...  2147271350     investor   \n",
       "1                                                NaN  2147321728     investor   \n",
       "2                                                NaN  2147321728     investor   \n",
       "3                                                NaN  2147321511     investor   \n",
       "4  <p>As of March 31, 2017, the 28.95%&nbsp;multi...  2147320659     investor   \n",
       "\n",
       "                         name_clean name_implied_type  \\\n",
       "0         B&CE STAFF PENSION SCHEME               NaN   \n",
       "1       BMO GLOBAL ASSET MANAGEMENT               NaN   \n",
       "2       BMO GLOBAL ASSET MANAGEMENT               NaN   \n",
       "3    CIGNA EUROPE INSURANCE COMPANY   ['Corporation']   \n",
       "4  DR MARTENS AIRWAIR INTERNATIONAL               NaN   \n",
       "\n",
       "           name_implied_country                     name_clean_co  \n",
       "0                           NaN         B&CE STAFF PENSION SCHEME  \n",
       "1                           NaN       BMO GLOBAL ASSET MANAGEMENT  \n",
       "2                           NaN       BMO GLOBAL ASSET MANAGEMENT  \n",
       "3  ['United States of America']            CIGNA EUROPE INSURANCE  \n",
       "4                           NaN  DR MARTENS AIRWAIR INTERNATIONAL  "
      ]
     },
     "execution_count": 8,
     "metadata": {},
     "output_type": "execute_result"
    }
   ],
   "source": [
    "investors_df.head()"
   ]
  },
  {
   "cell_type": "code",
   "execution_count": 21,
   "metadata": {},
   "outputs": [
    {
     "data": {
      "text/plain": [
       "array(['Corporate D.B.', 'Insurance', 'Public D.B.', 'Hospital Plan',\n",
       "       'Union D.B.', 'Manager of Managers', 'Single-Family Office',\n",
       "       'Foundation', 'Corporate D.C.', 'Union D.C.',\n",
       "       'Non-Profit Organization', 'Endowment', 'Surplus Fund',\n",
       "       'Public D.C.', 'Operating Fund', 'Hybrid DB-DC/Cash Balance',\n",
       "       'Trust Fund', 'Regional Development Agency Fund',\n",
       "       'Sovereign Wealth Fund', 'Sovereign Pension Fund', 'Unknown',\n",
       "       'Multi-employer D.B.', 'AVC', 'Multi-employer D.C.', 'Bank',\n",
       "       'Stakeholder', 'Statutory Compensation Fund', 'Health Plan',\n",
       "       '529 Plan', 'Nuclear Decommissioning Trust', 'Treasury',\n",
       "       'Permanent Fund', 'Multi-Family Office', 'Non-Profit D.C.',\n",
       "       'Money Purchase Plan', 'Profit-Sharing Plan', 'Annuity Fund',\n",
       "       'Liability Fund', 'Settlement Fund', 'Wealth Manager'],\n",
       "      dtype=object)"
      ]
     },
     "execution_count": 21,
     "metadata": {},
     "output_type": "execute_result"
    }
   ],
   "source": [
    "investors_df.type_name.unique()"
   ]
  },
  {
   "cell_type": "code",
   "execution_count": 22,
   "metadata": {},
   "outputs": [
    {
     "data": {
      "text/plain": [
       "array(['United Kingdom', nan, 'Belgium', 'United States', 'Poland',\n",
       "       'Canada', 'Spain', 'Cyprus', 'Brazil', 'Denmark', 'Switzerland',\n",
       "       'Finland', 'Sweden', 'Ireland', 'Netherlands', 'Australia',\n",
       "       'South Africa', 'United Arab Emirates', 'New Zealand', 'Malaysia',\n",
       "       'France', 'Hong Kong', 'Argentina', 'Slovenia', 'Hungary',\n",
       "       'Czech Republic', 'Romania', 'Japan', 'Mexico', 'Ivory Coast',\n",
       "       'Ethiopia', 'Rwanda', 'Norway', 'Egypt', 'China', 'Singapore',\n",
       "       'Thailand', 'Germany', 'Austria', 'Bahrain', 'Aruba',\n",
       "       'Netherlands Antilles', 'Philippines', 'Russian Federation',\n",
       "       'Iceland', 'Greece', 'Saudi Arabia', 'Bulgaria', 'Mauritius',\n",
       "       'Virgin Islands', 'Italy', 'Estonia', 'India', 'Luxembourg',\n",
       "       'Latvia', 'Portugal', 'Lithuania', 'Madagascar', 'Colombia',\n",
       "       'Puerto Rico', 'Botswana', 'Taiwan', 'Kenya', 'Bahamas',\n",
       "       'South Korea', 'Zambia', 'Indonesia', 'Brunei', 'Cayman Islands',\n",
       "       'Morocco', 'Algeria', 'Croatia', 'Timor-Leste', 'Channel Islands',\n",
       "       'Iran', 'Ghana', 'Zimbabwe', 'Unknown', 'Serbia', 'Costa Rica',\n",
       "       'Togo', 'Nigeria', 'Nepal', 'Sri Lanka', 'Pakistan', 'Monaco',\n",
       "       'Israel', 'Federated State of Micronesia', 'Fiji', 'Bermuda',\n",
       "       'Senegal', 'Angola', 'Turkey', 'Tanzania', 'US Virgin Islands',\n",
       "       'Namibia', 'Kuwait', 'Liechtenstein', 'Isle of Man', 'Kosovo',\n",
       "       'Macedonia', 'Cambodia', 'Kazakhstan', 'Eritrea', 'Bhutan',\n",
       "       'Papua New Guinea', 'Lebanon', 'Uganda',\n",
       "       'Northern Mariana Islands', 'Oman', 'Palestine', 'Venezuela',\n",
       "       'Barbados', 'Chile', 'Qatar', 'Vietnam', 'Macau', 'Jordan', 'Mali',\n",
       "       'Sudan', 'Guernsey', 'Azerbaijan', 'Swaziland', 'Haiti', 'Jamaica',\n",
       "       'Uruguay', 'Bosnia-Herzegovina'], dtype=object)"
      ]
     },
     "execution_count": 22,
     "metadata": {},
     "output_type": "execute_result"
    }
   ],
   "source": [
    "investors_df.address_country_name.unique()"
   ]
  },
  {
   "cell_type": "code",
   "execution_count": 17,
   "metadata": {},
   "outputs": [
    {
     "data": {
      "text/plain": [
       "name                    34728\n",
       "address_country_name    19921\n",
       "type_name               34728\n",
       "currency_short_name     34728\n",
       "type_name.1             34728\n",
       "roles_name              27632\n",
       "summary                  7789\n",
       "id                      34728\n",
       "company_type            34728\n",
       "name_clean              34728\n",
       "name_implied_type        4610\n",
       "name_implied_country     4600\n",
       "name_clean_co           34728\n",
       "dtype: int64"
      ]
     },
     "execution_count": 17,
     "metadata": {},
     "output_type": "execute_result"
    }
   ],
   "source": [
    "investors_df.count()"
   ]
  },
  {
   "cell_type": "markdown",
   "metadata": {},
   "source": [
    "### Managers"
   ]
  },
  {
   "cell_type": "code",
   "execution_count": 9,
   "metadata": {},
   "outputs": [],
   "source": [
    "managers_path = \"~/Desktop/Data/Matching_process/managers_to_merge.csv\"\n",
    "\n",
    "managers_df = pd.read_csv(managers_path)"
   ]
  },
  {
   "cell_type": "code",
   "execution_count": 10,
   "metadata": {},
   "outputs": [
    {
     "data": {
      "text/html": [
       "<div>\n",
       "<style scoped>\n",
       "    .dataframe tbody tr th:only-of-type {\n",
       "        vertical-align: middle;\n",
       "    }\n",
       "\n",
       "    .dataframe tbody tr th {\n",
       "        vertical-align: top;\n",
       "    }\n",
       "\n",
       "    .dataframe thead th {\n",
       "        text-align: right;\n",
       "    }\n",
       "</style>\n",
       "<table border=\"1\" class=\"dataframe\">\n",
       "  <thead>\n",
       "    <tr style=\"text-align: right;\">\n",
       "      <th></th>\n",
       "      <th>name</th>\n",
       "      <th>country_name</th>\n",
       "      <th>city</th>\n",
       "      <th>asset_classes_name</th>\n",
       "      <th>strategies_name</th>\n",
       "      <th>id</th>\n",
       "      <th>company_type</th>\n",
       "      <th>name_clean</th>\n",
       "      <th>name_implied_type</th>\n",
       "      <th>name_implied_country</th>\n",
       "      <th>name_clean_co</th>\n",
       "    </tr>\n",
       "  </thead>\n",
       "  <tbody>\n",
       "    <tr>\n",
       "      <th>0</th>\n",
       "      <td>Bezirks-Sparkasse Dielsdorf</td>\n",
       "      <td>Switzerland</td>\n",
       "      <td>Dielsdorf</td>\n",
       "      <td>NaN</td>\n",
       "      <td>NaN</td>\n",
       "      <td>2145870965</td>\n",
       "      <td>manager</td>\n",
       "      <td>BEZIRKS-SPARKASSE DIELSDORF</td>\n",
       "      <td>NaN</td>\n",
       "      <td>NaN</td>\n",
       "      <td>BEZIRKS-SPARKASSE DIELSDORF</td>\n",
       "    </tr>\n",
       "    <tr>\n",
       "      <th>1</th>\n",
       "      <td>Danske Invest Management A/S</td>\n",
       "      <td>Denmark</td>\n",
       "      <td>Lyngby</td>\n",
       "      <td>NaN</td>\n",
       "      <td>NaN</td>\n",
       "      <td>2145872118</td>\n",
       "      <td>manager</td>\n",
       "      <td>DANSKE INVEST MANAGEMENT A/S</td>\n",
       "      <td>['Limited Liability Company']</td>\n",
       "      <td>['Denmark']</td>\n",
       "      <td>DANSKE INVEST MANAGEMENT</td>\n",
       "    </tr>\n",
       "    <tr>\n",
       "      <th>2</th>\n",
       "      <td>Haverford Trust Company</td>\n",
       "      <td>United States</td>\n",
       "      <td>Radnor</td>\n",
       "      <td>NaN</td>\n",
       "      <td>NaN</td>\n",
       "      <td>2145855687</td>\n",
       "      <td>manager</td>\n",
       "      <td>HAVERFORD TRUST COMPANY</td>\n",
       "      <td>['Corporation']</td>\n",
       "      <td>['United States of America']</td>\n",
       "      <td>HAVERFORD TRUST</td>\n",
       "    </tr>\n",
       "    <tr>\n",
       "      <th>3</th>\n",
       "      <td>Investment Corporation of Bangladesh (ICB)</td>\n",
       "      <td>Bangladesh</td>\n",
       "      <td>Dhaka</td>\n",
       "      <td>NaN</td>\n",
       "      <td>NaN</td>\n",
       "      <td>2145873355</td>\n",
       "      <td>manager</td>\n",
       "      <td>INVESTMENT CORPORATION OF BANGLADESH ICB</td>\n",
       "      <td>NaN</td>\n",
       "      <td>NaN</td>\n",
       "      <td>INVESTMENT CORPORATION OF BANGLADESH ICB</td>\n",
       "    </tr>\n",
       "    <tr>\n",
       "      <th>4</th>\n",
       "      <td>LeaseGreen Group</td>\n",
       "      <td>Finland</td>\n",
       "      <td>Helsinki</td>\n",
       "      <td>NaN</td>\n",
       "      <td>NaN</td>\n",
       "      <td>2145871854</td>\n",
       "      <td>manager</td>\n",
       "      <td>LEASEGREEN GROUP</td>\n",
       "      <td>NaN</td>\n",
       "      <td>NaN</td>\n",
       "      <td>LEASEGREEN GROUP</td>\n",
       "    </tr>\n",
       "  </tbody>\n",
       "</table>\n",
       "</div>"
      ],
      "text/plain": [
       "                                         name   country_name       city  \\\n",
       "0                 Bezirks-Sparkasse Dielsdorf    Switzerland  Dielsdorf   \n",
       "1                Danske Invest Management A/S        Denmark     Lyngby   \n",
       "2                     Haverford Trust Company  United States     Radnor   \n",
       "3  Investment Corporation of Bangladesh (ICB)     Bangladesh      Dhaka   \n",
       "4                            LeaseGreen Group        Finland   Helsinki   \n",
       "\n",
       "  asset_classes_name strategies_name          id company_type  \\\n",
       "0                NaN             NaN  2145870965      manager   \n",
       "1                NaN             NaN  2145872118      manager   \n",
       "2                NaN             NaN  2145855687      manager   \n",
       "3                NaN             NaN  2145873355      manager   \n",
       "4                NaN             NaN  2145871854      manager   \n",
       "\n",
       "                                 name_clean              name_implied_type  \\\n",
       "0               BEZIRKS-SPARKASSE DIELSDORF                            NaN   \n",
       "1              DANSKE INVEST MANAGEMENT A/S  ['Limited Liability Company']   \n",
       "2                   HAVERFORD TRUST COMPANY                ['Corporation']   \n",
       "3  INVESTMENT CORPORATION OF BANGLADESH ICB                            NaN   \n",
       "4                          LEASEGREEN GROUP                            NaN   \n",
       "\n",
       "           name_implied_country                             name_clean_co  \n",
       "0                           NaN               BEZIRKS-SPARKASSE DIELSDORF  \n",
       "1                   ['Denmark']                  DANSKE INVEST MANAGEMENT  \n",
       "2  ['United States of America']                           HAVERFORD TRUST  \n",
       "3                           NaN  INVESTMENT CORPORATION OF BANGLADESH ICB  \n",
       "4                           NaN                          LEASEGREEN GROUP  "
      ]
     },
     "execution_count": 10,
     "metadata": {},
     "output_type": "execute_result"
    }
   ],
   "source": [
    "managers_df.head()"
   ]
  },
  {
   "cell_type": "code",
   "execution_count": 18,
   "metadata": {},
   "outputs": [
    {
     "data": {
      "text/plain": [
       "name                    27199\n",
       "country_name            27200\n",
       "city                    26873\n",
       "asset_classes_name       7131\n",
       "strategies_name          7172\n",
       "id                      27200\n",
       "company_type            27200\n",
       "name_clean              27195\n",
       "name_implied_type        3911\n",
       "name_implied_country     4061\n",
       "name_clean_co           27195\n",
       "dtype: int64"
      ]
     },
     "execution_count": 18,
     "metadata": {},
     "output_type": "execute_result"
    }
   ],
   "source": [
    "managers_df.count()"
   ]
  },
  {
   "cell_type": "markdown",
   "metadata": {},
   "source": [
    "### Target table"
   ]
  },
  {
   "cell_type": "code",
   "execution_count": 11,
   "metadata": {},
   "outputs": [
    {
     "name": "stderr",
     "output_type": "stream",
     "text": [
      "/Users/jackcontro/Library/Python/3.7/lib/python/site-packages/IPython/core/interactiveshell.py:3063: DtypeWarning: Columns (5) have mixed types.Specify dtype option on import or set low_memory=False.\n",
      "  interactivity=interactivity, compiler=compiler, result=result)\n"
     ]
    }
   ],
   "source": [
    "target_table_path = \"~/Desktop/Data/Matching_process/table_to_merge_onto.csv\"\n",
    "\n",
    "target_df = pd.read_csv(target_table_path)"
   ]
  },
  {
   "cell_type": "code",
   "execution_count": 12,
   "metadata": {},
   "outputs": [
    {
     "data": {
      "text/html": [
       "<div>\n",
       "<style scoped>\n",
       "    .dataframe tbody tr th:only-of-type {\n",
       "        vertical-align: middle;\n",
       "    }\n",
       "\n",
       "    .dataframe tbody tr th {\n",
       "        vertical-align: top;\n",
       "    }\n",
       "\n",
       "    .dataframe thead th {\n",
       "        text-align: right;\n",
       "    }\n",
       "</style>\n",
       "<table border=\"1\" class=\"dataframe\">\n",
       "  <thead>\n",
       "    <tr style=\"text-align: right;\">\n",
       "      <th></th>\n",
       "      <th>Account ID</th>\n",
       "      <th>Account Name</th>\n",
       "      <th>Billing Country</th>\n",
       "      <th>PAM Manager ID</th>\n",
       "      <th>SEC Number</th>\n",
       "      <th>Number of employees</th>\n",
       "      <th>Is Parent Account?</th>\n",
       "      <th>Continent/Region</th>\n",
       "      <th>Type</th>\n",
       "      <th>Account Industry</th>\n",
       "      <th>Industry</th>\n",
       "      <th>Account Sub Industry</th>\n",
       "      <th>Account Site</th>\n",
       "      <th>Account or Parent Name</th>\n",
       "      <th>Billing City</th>\n",
       "      <th>Billing Zip/Postal Code</th>\n",
       "      <th>Parent Account</th>\n",
       "      <th>name_clean</th>\n",
       "      <th>name_implied_type</th>\n",
       "      <th>name_implied_country</th>\n",
       "      <th>name_clean_co</th>\n",
       "      <th>id</th>\n",
       "      <th>company_type</th>\n",
       "      <th>merge_label</th>\n",
       "    </tr>\n",
       "  </thead>\n",
       "  <tbody>\n",
       "    <tr>\n",
       "      <th>0</th>\n",
       "      <td>0011r00001w1x3Z</td>\n",
       "      <td>Otto Harrassowitz GmbH &amp; Co. KG</td>\n",
       "      <td>Germany</td>\n",
       "      <td>NaN</td>\n",
       "      <td>NaN</td>\n",
       "      <td>NaN</td>\n",
       "      <td>1</td>\n",
       "      <td>Europe</td>\n",
       "      <td>NaN</td>\n",
       "      <td>Research/Academia</td>\n",
       "      <td>Allocator</td>\n",
       "      <td>Public Library</td>\n",
       "      <td>Group</td>\n",
       "      <td>Otto Harrassowitz GmbH &amp; Co. KG</td>\n",
       "      <td>Wiesbaden</td>\n",
       "      <td>65205</td>\n",
       "      <td>NaN</td>\n",
       "      <td>OTTO HARRASSOWITZ GMBH &amp; CO KG</td>\n",
       "      <td>['Limited Partnership']</td>\n",
       "      <td>['Austria']</td>\n",
       "      <td>OTTO HARRASSOWITZ GMBH &amp; CO</td>\n",
       "      <td>NaN</td>\n",
       "      <td>NaN</td>\n",
       "      <td>no_match</td>\n",
       "    </tr>\n",
       "    <tr>\n",
       "      <th>1</th>\n",
       "      <td>0012000000gpuV8</td>\n",
       "      <td>Goldman Sachs Asset Management International</td>\n",
       "      <td>UK</td>\n",
       "      <td>2.145870e+09</td>\n",
       "      <td>801-38157</td>\n",
       "      <td>NaN</td>\n",
       "      <td>0</td>\n",
       "      <td>Oceania</td>\n",
       "      <td>NaN</td>\n",
       "      <td>Investment Bank</td>\n",
       "      <td>Professional &amp; Fund Services</td>\n",
       "      <td>NaN</td>\n",
       "      <td>Location</td>\n",
       "      <td>The Goldman Sachs Group, Inc.</td>\n",
       "      <td>London</td>\n",
       "      <td>EC4A 4AU</td>\n",
       "      <td>The Goldman Sachs Group, Inc.</td>\n",
       "      <td>THE GOLDMAN SACHS GROUP INC</td>\n",
       "      <td>['Corporation']</td>\n",
       "      <td>['Philippines', 'United States of America']</td>\n",
       "      <td>THE GOLDMAN SACHS GROUP</td>\n",
       "      <td>2.145870e+09</td>\n",
       "      <td>manager</td>\n",
       "      <td>pam_manager_id</td>\n",
       "    </tr>\n",
       "    <tr>\n",
       "      <th>2</th>\n",
       "      <td>0012000000gpuV8</td>\n",
       "      <td>Goldman Sachs Asset Management International</td>\n",
       "      <td>UK</td>\n",
       "      <td>2.145870e+09</td>\n",
       "      <td>801-38157</td>\n",
       "      <td>NaN</td>\n",
       "      <td>0</td>\n",
       "      <td>Oceania</td>\n",
       "      <td>NaN</td>\n",
       "      <td>Investment Bank</td>\n",
       "      <td>Professional &amp; Fund Services</td>\n",
       "      <td>NaN</td>\n",
       "      <td>Location</td>\n",
       "      <td>The Goldman Sachs Group, Inc.</td>\n",
       "      <td>London</td>\n",
       "      <td>EC4A 4AU</td>\n",
       "      <td>The Goldman Sachs Group, Inc.</td>\n",
       "      <td>THE GOLDMAN SACHS GROUP INC</td>\n",
       "      <td>['Corporation']</td>\n",
       "      <td>['Philippines', 'United States of America']</td>\n",
       "      <td>THE GOLDMAN SACHS GROUP</td>\n",
       "      <td>2.145870e+09</td>\n",
       "      <td>manager</td>\n",
       "      <td>pam_manager_id</td>\n",
       "    </tr>\n",
       "    <tr>\n",
       "      <th>3</th>\n",
       "      <td>0012000000gpuV8</td>\n",
       "      <td>Goldman Sachs Asset Management International</td>\n",
       "      <td>UK</td>\n",
       "      <td>2.145870e+09</td>\n",
       "      <td>801-38157</td>\n",
       "      <td>NaN</td>\n",
       "      <td>0</td>\n",
       "      <td>Oceania</td>\n",
       "      <td>NaN</td>\n",
       "      <td>Investment Bank</td>\n",
       "      <td>Professional &amp; Fund Services</td>\n",
       "      <td>NaN</td>\n",
       "      <td>Location</td>\n",
       "      <td>The Goldman Sachs Group, Inc.</td>\n",
       "      <td>London</td>\n",
       "      <td>EC4A 4AU</td>\n",
       "      <td>The Goldman Sachs Group, Inc.</td>\n",
       "      <td>THE GOLDMAN SACHS GROUP INC</td>\n",
       "      <td>['Corporation']</td>\n",
       "      <td>['Philippines', 'United States of America']</td>\n",
       "      <td>THE GOLDMAN SACHS GROUP</td>\n",
       "      <td>2.145870e+09</td>\n",
       "      <td>manager</td>\n",
       "      <td>pam_manager_id</td>\n",
       "    </tr>\n",
       "    <tr>\n",
       "      <th>4</th>\n",
       "      <td>0012000000gpuV8</td>\n",
       "      <td>Goldman Sachs Asset Management International</td>\n",
       "      <td>UK</td>\n",
       "      <td>2.145870e+09</td>\n",
       "      <td>801-38157</td>\n",
       "      <td>NaN</td>\n",
       "      <td>0</td>\n",
       "      <td>Oceania</td>\n",
       "      <td>NaN</td>\n",
       "      <td>Investment Bank</td>\n",
       "      <td>Professional &amp; Fund Services</td>\n",
       "      <td>NaN</td>\n",
       "      <td>Location</td>\n",
       "      <td>The Goldman Sachs Group, Inc.</td>\n",
       "      <td>London</td>\n",
       "      <td>EC4A 4AU</td>\n",
       "      <td>The Goldman Sachs Group, Inc.</td>\n",
       "      <td>THE GOLDMAN SACHS GROUP INC</td>\n",
       "      <td>['Corporation']</td>\n",
       "      <td>['Philippines', 'United States of America']</td>\n",
       "      <td>THE GOLDMAN SACHS GROUP</td>\n",
       "      <td>2.145870e+09</td>\n",
       "      <td>manager</td>\n",
       "      <td>pam_manager_id</td>\n",
       "    </tr>\n",
       "  </tbody>\n",
       "</table>\n",
       "</div>"
      ],
      "text/plain": [
       "        Account ID                                  Account Name  \\\n",
       "0  0011r00001w1x3Z               Otto Harrassowitz GmbH & Co. KG   \n",
       "1  0012000000gpuV8  Goldman Sachs Asset Management International   \n",
       "2  0012000000gpuV8  Goldman Sachs Asset Management International   \n",
       "3  0012000000gpuV8  Goldman Sachs Asset Management International   \n",
       "4  0012000000gpuV8  Goldman Sachs Asset Management International   \n",
       "\n",
       "  Billing Country  PAM Manager ID SEC Number Number of employees  \\\n",
       "0         Germany             NaN        NaN                 NaN   \n",
       "1              UK    2.145870e+09  801-38157                 NaN   \n",
       "2              UK    2.145870e+09  801-38157                 NaN   \n",
       "3              UK    2.145870e+09  801-38157                 NaN   \n",
       "4              UK    2.145870e+09  801-38157                 NaN   \n",
       "\n",
       "   Is Parent Account? Continent/Region Type   Account Industry  \\\n",
       "0                   1           Europe  NaN  Research/Academia   \n",
       "1                   0          Oceania  NaN    Investment Bank   \n",
       "2                   0          Oceania  NaN    Investment Bank   \n",
       "3                   0          Oceania  NaN    Investment Bank   \n",
       "4                   0          Oceania  NaN    Investment Bank   \n",
       "\n",
       "                       Industry Account Sub Industry Account Site  \\\n",
       "0                     Allocator       Public Library        Group   \n",
       "1  Professional & Fund Services                  NaN     Location   \n",
       "2  Professional & Fund Services                  NaN     Location   \n",
       "3  Professional & Fund Services                  NaN     Location   \n",
       "4  Professional & Fund Services                  NaN     Location   \n",
       "\n",
       "            Account or Parent Name Billing City Billing Zip/Postal Code  \\\n",
       "0  Otto Harrassowitz GmbH & Co. KG    Wiesbaden                   65205   \n",
       "1    The Goldman Sachs Group, Inc.       London                EC4A 4AU   \n",
       "2    The Goldman Sachs Group, Inc.       London                EC4A 4AU   \n",
       "3    The Goldman Sachs Group, Inc.       London                EC4A 4AU   \n",
       "4    The Goldman Sachs Group, Inc.       London                EC4A 4AU   \n",
       "\n",
       "                  Parent Account                      name_clean  \\\n",
       "0                            NaN  OTTO HARRASSOWITZ GMBH & CO KG   \n",
       "1  The Goldman Sachs Group, Inc.     THE GOLDMAN SACHS GROUP INC   \n",
       "2  The Goldman Sachs Group, Inc.     THE GOLDMAN SACHS GROUP INC   \n",
       "3  The Goldman Sachs Group, Inc.     THE GOLDMAN SACHS GROUP INC   \n",
       "4  The Goldman Sachs Group, Inc.     THE GOLDMAN SACHS GROUP INC   \n",
       "\n",
       "         name_implied_type                         name_implied_country  \\\n",
       "0  ['Limited Partnership']                                  ['Austria']   \n",
       "1          ['Corporation']  ['Philippines', 'United States of America']   \n",
       "2          ['Corporation']  ['Philippines', 'United States of America']   \n",
       "3          ['Corporation']  ['Philippines', 'United States of America']   \n",
       "4          ['Corporation']  ['Philippines', 'United States of America']   \n",
       "\n",
       "                 name_clean_co            id company_type     merge_label  \n",
       "0  OTTO HARRASSOWITZ GMBH & CO           NaN          NaN        no_match  \n",
       "1      THE GOLDMAN SACHS GROUP  2.145870e+09      manager  pam_manager_id  \n",
       "2      THE GOLDMAN SACHS GROUP  2.145870e+09      manager  pam_manager_id  \n",
       "3      THE GOLDMAN SACHS GROUP  2.145870e+09      manager  pam_manager_id  \n",
       "4      THE GOLDMAN SACHS GROUP  2.145870e+09      manager  pam_manager_id  "
      ]
     },
     "execution_count": 12,
     "metadata": {},
     "output_type": "execute_result"
    }
   ],
   "source": [
    "target_df.head()"
   ]
  },
  {
   "cell_type": "code",
   "execution_count": 19,
   "metadata": {},
   "outputs": [
    {
     "data": {
      "text/plain": [
       "Account ID                 72831\n",
       "Account Name               72821\n",
       "Billing Country            69829\n",
       "PAM Manager ID             24306\n",
       "SEC Number                  4469\n",
       "Number of employees          415\n",
       "Is Parent Account?         72831\n",
       "Continent/Region           72831\n",
       "Type                        5011\n",
       "Account Industry           25970\n",
       "Industry                   64886\n",
       "Account Sub Industry       15073\n",
       "Account Site               72826\n",
       "Account or Parent Name     72821\n",
       "Billing City               54631\n",
       "Billing Zip/Postal Code    48518\n",
       "Parent Account             26433\n",
       "name_clean                 72826\n",
       "name_implied_type          14021\n",
       "name_implied_country       14031\n",
       "name_clean_co              72806\n",
       "id                         35877\n",
       "company_type               35877\n",
       "merge_label                72831\n",
       "dtype: int64"
      ]
     },
     "execution_count": 19,
     "metadata": {},
     "output_type": "execute_result"
    }
   ],
   "source": [
    "target_df.count()"
   ]
  },
  {
   "cell_type": "markdown",
   "metadata": {},
   "source": [
    "The target dataframe has many vairations of the same name, with abbreviation (United Kingdon - U.K.) "
   ]
  },
  {
   "cell_type": "code",
   "execution_count": 28,
   "metadata": {},
   "outputs": [
    {
     "data": {
      "text/plain": [
       "array(['Germany', 'UK', 'United Kingdom', 'London', 'United States',\n",
       "       'Switzerland', 'Ireland', 'Turkey', 'Singapore', 'Hong Kong',\n",
       "       'JAPAN', 'India', 'China', nan, 'Taiwan', 'United Arab Emirates',\n",
       "       'Spain', 'Australia', 'Italy', 'South Korea', 'Qatar', 'Sweden',\n",
       "       'Canada', 'South Africa', 'France', 'Russia', 'HONG KONG',\n",
       "       'Malaysia', 'Cyprus', 'Japan', 'NORWAY', 'Malta', 'Greece',\n",
       "       'Denmark', 'Gibraltar', 'New Zealand', 'SWEDEN', 'Portugal',\n",
       "       'Netherlands', 'Thailand', 'Brazil', 'Morocco', 'Iran', 'Kuwait',\n",
       "       'Lebanon', 'Egypt', 'Romania', 'Saudi Arabia', 'Monaco', 'Curaçao',\n",
       "       'Poland', 'Luxembourg', 'ITALY', 'Austria', 'Peru', 'Hungary',\n",
       "       'Estonia', 'Georgia', 'Russian Federation', 'Kenya', 'Isle of Man',\n",
       "       \"Cote D'Ivoire\", 'canada', 'Chile', 'Cayman Islands', 'Bulgaria',\n",
       "       'Norway', 'Virgin Islands, British', 'Unknown', 'Nigeria',\n",
       "       'GERMANY', 'INDIA', \"Cote d'Ivoire\", 'Bermuda', 'Israel',\n",
       "       'Czech Republic', 'Lithuania', 'Tunisie', 'Oman', 'Jordan',\n",
       "       'Bahrain', 'Ghana', 'Finland', 'Belgium', 'Indonesia',\n",
       "       'Costa Rica', 'Bangladesh', 'Argentina', 'Mexico', 'Armenia',\n",
       "       'Pakistan', 'Jamaica', 'Uruguay', 'Bahamas', 'United kingdom',\n",
       "       'United Kindgom', 'United Stated', 'UAE', 'New York', 'Kingdom',\n",
       "       'Wales', 'United State', 'Macau', 'Scotland', 'Unites States',\n",
       "       'The Netherlands', 'Philippines', 'Liechtenstein', 'unknown',\n",
       "       'Ukraine', 'DENMARK', 'Netherlands Antilles', 'England', 'Italia',\n",
       "       'Saint Lucia', 'malta', 'Bolivia', 'Hong Kong S.A.R., China',\n",
       "       'Nederland', 'Mauritius', 'Barbados', 'Cayman Islands,', 'Panama',\n",
       "       'Colombia', 'Antigua & Barbuda',\n",
       "       'Saint Vincent and the Grenadines', 'portugal', 'Tunisia',\n",
       "       'Iceland', 'Latvia', 'Afghanistan', 'SAUDI ARABIA', 'Dubai',\n",
       "       'ireland', 'Venezuela', 'Puerto Rico', 'Serbia', 'Ecuador',\n",
       "       'Andorra', 'Alea Igre d.o.o.', 'Croatia', 'italy', 'brasil',\n",
       "       'MEXICO', 'Uganda', 'Channel Islands', 'Belarus', 'LUXEMBOURG',\n",
       "       'Guernsey', 'united arab emirates', 'TAIWAN', 'UNITED KINGDOM',\n",
       "       'Curacao', 'Antarctica', 'Mongolia', 'Brasil', 'Brunei',\n",
       "       'NETHERLANDS', 'uk', 'Jersey', 'india', 'Europe', 'United KIngdom',\n",
       "       'Sween', 'United States of America', 'united states', 'Vietnam',\n",
       "       'united kingdom', 'Seychelles', 'Macedonia',\n",
       "       'British Virgin Islands', 'LATVIA', 'Slovenia', 'NEW CALEDONIA',\n",
       "       'British Isles', 'x', 'Ethiopia', 'Burkina Faso', 'Texas',\n",
       "       'israel', 'Cameroon', 'Virgin Islands, US', 'Zambia',\n",
       "       'Korea (South)', 'FRANCE', 'MALAYSIA', 'Kazakhstan', 'Slovakia',\n",
       "       'Malawi', 'UNITED STATES', 'Belize', 'denmark', 'Sverige',\n",
       "       'LIECHTENSTEIN', 'CHILE', 'SWITZERLAND', 'Palau', 'Nepal',\n",
       "       'Sweden\\xa0', 'Saint Kitts and Nevis', 'spain', 'Kyiv', 'Cambodia',\n",
       "       'Papua New Guinea', 'PORTUGAL', 'Botswana', 'Zimbabwe', 'Angola',\n",
       "       'Togo', 'france', 'SOUTH AFRICA', 'PHILIPPINES', 'Columbia',\n",
       "       'United Kingfom', 'australia', 'BRAZIL', 'Sri Lanka', 'Korea',\n",
       "       'Macao', 'Sri lanka', 'CHINA', 'Slovak Republic',\n",
       "       'Taiwan, Province of China', 'FINLAND', 'Turks and Caicos Islands',\n",
       "       'Anguilla', 'Iraq', 'Republic of Ireland', 'Korea, Republic of',\n",
       "       'Trinidad and Tobago', 'Stockholm', 'Paraguay', 'CROATIA',\n",
       "       'Montenegro', 'Czech', 'New Zeland', 'SPAIN', 'Nerherlands', 'Uk',\n",
       "       'MALTA', 'Bosnia-Herzegovina', 'china', 'Syria', '.',\n",
       "       'Tanzania, United Republic Of', 'Dominica', 'España',\n",
       "       'Finland\\xa0', 'Vanuatu', 'México', 'KENYA', 'Trinidad & Tobago',\n",
       "       'TBC', 'SOUTH KOREA', 'Albania', 'venezuela', 'BELGIUM', 'POLAND',\n",
       "       'Paris', 'peru', 'Guatemala', 'Mali', 'Muscat', 'Isle Of Man',\n",
       "       'AUSTRIA', 'Senegal', 'Azerbaijan', 'germany', 'GB', 'England,',\n",
       "       \"Côte d'Ivoire\", 'Zug', 'Nicaragua', 'greece', 'Untied Kindom',\n",
       "       'Federated States of Micronesia', 'HK', 'Cameron',\n",
       "       'United Kingdon', 'THAILAND', 'Madagascar', 'Schweiz',\n",
       "       'Cook Islands', 'Honduras', 'Kanye', 'Perú', 'Namibia',\n",
       "       'Unknown Account', 'Micronesia, Federal States of', 'Uzbekistan',\n",
       "       'CANADA', 'NEW ZEALAND', 'sweden', 'Dominican Republic',\n",
       "       'Tanzania', 'El Salvador', 'Chad', 'NL', 'Aruba', 'Myanmar',\n",
       "       'Antigua And Barbuda', 'California', 'United states',\n",
       "       'U.S. Virgin Islands', 'Côte d’Ivoire', 'japan', 'Sanghai',\n",
       "       'Polska', 'Brazile', 'Bulgaia', 'Swaziland', 'BOTSWANA', 'ISRAEL',\n",
       "       'nigeria', 'Luxemburg', 'Suriname', 'South Sudan',\n",
       "       'united Kingdom', 'Zyprus', 'Swtitzerland', 'gibraltar', 'Danmark',\n",
       "       'EU', 'BERMUDA', 'indonesia', 'Algeria', 'Österreich',\n",
       "       'czech republic', 'Austarlia', 'turkey', 'Mozambique', 'Yemen',\n",
       "       'Burundi', 'U.S.A.', 'Viet Nam', 'JORDAN', 'the Netherlands',\n",
       "       'algeria', 'Gambia', 'Benin', 'Kazakahstan', 'Hrvatska',\n",
       "       'FYR Macedonia', 'Sao Tome and Principe', 'chile', 'poland',\n",
       "       'Congo', 'Moldova', 'Switzerlan', 'mexico', 'Rwanda', 'Palestine',\n",
       "       'Tahoba Ltd', 'SIngapore', 'kenya', 'Россия', 'Rep. of Lorea',\n",
       "       'Fiji', 'RUSSIA', 'Lesotho', 'Phillippines', '10001', 'bangladesh',\n",
       "       'Antigua', 'U.K.', 'United Kingom', '日本', 'Deutschland', 'Libya',\n",
       "       'Finnland', 'estonia', 'Czech Rdepublic', 'svizzera', 'brazil',\n",
       "       'taiwan', 'malaysia', 'south korea', 'saudi', 'EGYPT', 'Gabon',\n",
       "       'Philipphines'], dtype=object)"
      ]
     },
     "execution_count": 28,
     "metadata": {},
     "output_type": "execute_result"
    }
   ],
   "source": [
    "target_df['Billing Country'].unique()"
   ]
  },
  {
   "cell_type": "code",
   "execution_count": 32,
   "metadata": {},
   "outputs": [
    {
     "data": {
      "text/plain": [
       "381"
      ]
     },
     "execution_count": 32,
     "metadata": {},
     "output_type": "execute_result"
    }
   ],
   "source": [
    "len(target_df['Billing Country'].unique())"
   ]
  },
  {
   "cell_type": "code",
   "execution_count": 31,
   "metadata": {},
   "outputs": [
    {
     "data": {
      "text/plain": [
       "287"
      ]
     },
     "execution_count": 31,
     "metadata": {},
     "output_type": "execute_result"
    }
   ],
   "source": [
    "# This reduced the number by 100\n",
    "len(target_df['Billing Country'].str.lower().unique())"
   ]
  },
  {
   "cell_type": "code",
   "execution_count": 33,
   "metadata": {},
   "outputs": [],
   "source": [
    "import model_utils"
   ]
  },
  {
   "cell_type": "code",
   "execution_count": null,
   "metadata": {},
   "outputs": [],
   "source": []
  }
 ],
 "metadata": {
  "kernelspec": {
   "display_name": "fuzzy_matching_env",
   "language": "python",
   "name": "fuzzy_matching_env"
  },
  "language_info": {
   "codemirror_mode": {
    "name": "ipython",
    "version": 3
   },
   "file_extension": ".py",
   "mimetype": "text/x-python",
   "name": "python",
   "nbconvert_exporter": "python",
   "pygments_lexer": "ipython3",
   "version": "3.7.7"
  }
 },
 "nbformat": 4,
 "nbformat_minor": 4
}
