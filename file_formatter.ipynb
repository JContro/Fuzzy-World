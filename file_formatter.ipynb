{
 "cells": [
  {
   "cell_type": "markdown",
   "metadata": {},
   "source": [
    "#### Imports"
   ]
  },
  {
   "cell_type": "code",
   "execution_count": 47,
   "metadata": {},
   "outputs": [],
   "source": [
    "import numpy as np\n",
    "import pandas as pd\n",
    "import joblib"
   ]
  },
  {
   "cell_type": "code",
   "execution_count": 48,
   "metadata": {},
   "outputs": [],
   "source": [
    "import utils as u\n",
    "from model_utils import Model"
   ]
  },
  {
   "cell_type": "code",
   "execution_count": 49,
   "metadata": {},
   "outputs": [
    {
     "name": "stdout",
     "output_type": "stream",
     "text": [
      "The autoreload extension is already loaded. To reload it, use:\n",
      "  %reload_ext autoreload\n",
      "The lab_black extension is already loaded. To reload it, use:\n",
      "  %reload_ext lab_black\n"
     ]
    }
   ],
   "source": [
    "%load_ext autoreload\n",
    "%autoreload 2\n",
    "###\n",
    "%load_ext lab_black"
   ]
  },
  {
   "cell_type": "markdown",
   "metadata": {},
   "source": [
    "#### Text Loader"
   ]
  },
  {
   "cell_type": "code",
   "execution_count": 3,
   "metadata": {},
   "outputs": [],
   "source": [
    "data_location  = 'interim/'"
   ]
  },
  {
   "cell_type": "code",
   "execution_count": 4,
   "metadata": {},
   "outputs": [],
   "source": [
    "data_1 = pd.read_excel('interim/data_1.xlsx', sheet_name=None)"
   ]
  },
  {
   "cell_type": "code",
   "execution_count": 5,
   "metadata": {},
   "outputs": [],
   "source": [
    "data_1_final = []\n",
    "for sheet in data_1.keys():\n",
    "    title = data_1[sheet].columns\n",
    "    title = title[-1]\n",
    "    temp_df = data_1[sheet].copy()\n",
    "    temp_df['Source'] = title\n",
    "    temp_df['Data_1'] = temp_df[title]\n",
    "    temp_df = temp_df[['Data_1']]\n",
    "    data_1_final.append(temp_df)\n",
    "\n",
    "data_1_final  = pd.concat(data_1_final, ignore_index=True)"
   ]
  },
  {
   "cell_type": "code",
   "execution_count": 6,
   "metadata": {},
   "outputs": [],
   "source": [
    "data_2 = pd.read_excel('interim/data_2.xlsx', sheet_name=None)"
   ]
  },
  {
   "cell_type": "code",
   "execution_count": 7,
   "metadata": {},
   "outputs": [],
   "source": [
    "data_2_final = []\n",
    "for sheet in data_2.keys():\n",
    "    title = data_2[sheet].columns\n",
    "    title = title[-1]\n",
    "    temp_df = data_2[sheet].copy()\n",
    "    temp_df['Source'] = title\n",
    "    temp_df['Data_2'] = temp_df[title]\n",
    "    temp_df = temp_df[['Data_2']]\n",
    "    data_2_final.append(temp_df)\n",
    "\n",
    "data_2_final  = pd.concat(data_2_final, ignore_index=True)"
   ]
  },
  {
   "cell_type": "markdown",
   "metadata": {},
   "source": [
    "#### Combining the datasets"
   ]
  },
  {
   "cell_type": "code",
   "execution_count": 74,
   "metadata": {},
   "outputs": [],
   "source": [
    "def cartesian_product(*arrays):\n",
    "    la = len(arrays)\n",
    "    dtype = np.result_type(*arrays)\n",
    "    arr = np.empty([len(a) for a in arrays] + [la], dtype=dtype)\n",
    "    for i, a in enumerate(np.ix_(*arrays)):\n",
    "        arr[..., i] = a\n",
    "    return arr.reshape(-1, la)\n",
    "\n",
    "\n",
    "def cartesian_product_multi(*dfs):\n",
    "    idx = cartesian_product(*[np.ogrid[: len(df)] for df in dfs])\n",
    "    return pd.DataFrame(\n",
    "        np.column_stack([df.values[idx[:, i]] for i, df in enumerate(dfs)])\n",
    "    )\n",
    "\n",
    "\n",
    "test_df = cartesian_product_multi(*[data_1_final, data_2_final])"
   ]
  },
  {
   "cell_type": "code",
   "execution_count": 75,
   "metadata": {},
   "outputs": [
    {
     "data": {
      "text/plain": [
       "(54696668, 2)"
      ]
     },
     "execution_count": 75,
     "metadata": {},
     "output_type": "execute_result"
    }
   ],
   "source": [
    "test_df.shape"
   ]
  },
  {
   "cell_type": "code",
   "execution_count": 76,
   "metadata": {},
   "outputs": [
    {
     "data": {
      "text/html": [
       "<div>\n",
       "<style scoped>\n",
       "    .dataframe tbody tr th:only-of-type {\n",
       "        vertical-align: middle;\n",
       "    }\n",
       "\n",
       "    .dataframe tbody tr th {\n",
       "        vertical-align: top;\n",
       "    }\n",
       "\n",
       "    .dataframe thead th {\n",
       "        text-align: right;\n",
       "    }\n",
       "</style>\n",
       "<table border=\"1\" class=\"dataframe\">\n",
       "  <thead>\n",
       "    <tr style=\"text-align: right;\">\n",
       "      <th></th>\n",
       "      <th>0</th>\n",
       "      <th>1</th>\n",
       "    </tr>\n",
       "  </thead>\n",
       "  <tbody>\n",
       "    <tr>\n",
       "      <th>0</th>\n",
       "      <td>Yardi</td>\n",
       "      <td>OTTO HARRASSOWITZ GMBH &amp; CO</td>\n",
       "    </tr>\n",
       "    <tr>\n",
       "      <th>1</th>\n",
       "      <td>Yardi</td>\n",
       "      <td>GOLDMAN SACHS ASSET MANAGEMENT INTERNATIONAL</td>\n",
       "    </tr>\n",
       "    <tr>\n",
       "      <th>2</th>\n",
       "      <td>Yardi</td>\n",
       "      <td>ADDISON LEE PLC DD</td>\n",
       "    </tr>\n",
       "    <tr>\n",
       "      <th>3</th>\n",
       "      <td>Yardi</td>\n",
       "      <td>STATE STREET GLOBAL</td>\n",
       "    </tr>\n",
       "    <tr>\n",
       "      <th>4</th>\n",
       "      <td>Yardi</td>\n",
       "      <td>SLOANE ROBINSON INVESTMENT SERVICES</td>\n",
       "    </tr>\n",
       "  </tbody>\n",
       "</table>\n",
       "</div>"
      ],
      "text/plain": [
       "        0                                             1\n",
       "0  Yardi                    OTTO HARRASSOWITZ GMBH & CO\n",
       "1  Yardi   GOLDMAN SACHS ASSET MANAGEMENT INTERNATIONAL\n",
       "2  Yardi                             ADDISON LEE PLC DD\n",
       "3  Yardi                            STATE STREET GLOBAL\n",
       "4  Yardi            SLOANE ROBINSON INVESTMENT SERVICES"
      ]
     },
     "execution_count": 76,
     "metadata": {},
     "output_type": "execute_result"
    }
   ],
   "source": [
    "test_df.head()"
   ]
  },
  {
   "cell_type": "code",
   "execution_count": 77,
   "metadata": {},
   "outputs": [],
   "source": [
    "test_df.columns = [\"data_1\", \"data_2\"]"
   ]
  },
  {
   "cell_type": "markdown",
   "metadata": {},
   "source": [
    "#### ML Results"
   ]
  },
  {
   "cell_type": "code",
   "execution_count": 28,
   "metadata": {},
   "outputs": [],
   "source": [
    "# These are words to\n",
    "words_to_ignore = [\n",
    "    \"capital\",\n",
    "    \"management\",\n",
    "    \"partners\",\n",
    "    \"group\",\n",
    "    \"&\",\n",
    "    \"asset\",\n",
    "    \"investment\",\n",
    "    \"of\",\n",
    "    \"fund\",\n",
    "    \"services\",\n",
    "    \"insurance\",\n",
    "    \"global\",\n",
    "    \"financial\",\n",
    "    \"the\",\n",
    "    \"investments\",\n",
    "    \"consulting\",\n",
    "    \"bank\",\n",
    "    \"international\",\n",
    "    \"solutions\",\n",
    "    \"wealth\",\n",
    "    \"pension\",\n",
    "    \"associates\",\n",
    "    \"media\",\n",
    "    \"new\",\n",
    "    \"london\",\n",
    "    \"risk\",\n",
    "    \"securities\",\n",
    "    \"real\",\n",
    "    \"gaming\",\n",
    "    \"estate\",\n",
    "    \"trust\",\n",
    "    \"co\",\n",
    "    \"office\",\n",
    "    \"family\",\n",
    "    \"company\",\n",
    "    \"de\",\n",
    "    \"research\",\n",
    "    \"funds\",\n",
    "    \"foundation\",\n",
    "]\n",
    "\n",
    "# These common words will be used in searching for acronyms\n",
    "common_words = []\n",
    "with open(\"1-1000.txt\") as f:\n",
    "    for line in f:\n",
    "        common_words.append(line.rstrip())"
   ]
  },
  {
   "cell_type": "code",
   "execution_count": 42,
   "metadata": {},
   "outputs": [],
   "source": [
    "non_numerical_cols = [\"name_a\", \"name_b\", \"acr_a\", \"acr_b\"]\n",
    "feature_columns = [\n",
    "    \"acr_match\",\n",
    "    \"JW_distance\",\n",
    "    \"LV_distance\",\n",
    "    \"num_words_a\",\n",
    "    \"num_words_b\",\n",
    "    \"len_a\",\n",
    "    \"len_b\",\n",
    "]"
   ]
  },
  {
   "cell_type": "code",
   "execution_count": 97,
   "metadata": {},
   "outputs": [],
   "source": [
    "def predict_comparison(dataframe, name_column_1, name_column_2, trained_model):\n",
    "    base_df = pd.DataFrame()\n",
    "\n",
    "    base_df[\"name_a\"] = dataframe[name_column_1].astype(str)\n",
    "    base_df[\"name_b\"] = dataframe[name_column_2].astype(str)\n",
    "\n",
    "    # Get the acronyms for a and b\n",
    "    base_df[\"acr_a\"] = base_df[\"name_a\"].apply(\n",
    "        lambda x: u.get_acronym(x, words_to_ignore, common_words)\n",
    "    )\n",
    "    base_df[\"acr_b\"] = base_df[\"name_b\"].apply(\n",
    "        lambda x: u.get_acronym(x, words_to_ignore, common_words)\n",
    "    )\n",
    "\n",
    "    # Create a numerical field for the same acronyms\n",
    "    base_df[\"acr_match\"] = base_df.apply(\n",
    "        lambda row: u.acronym_checker(row[\"acr_a\"], row[\"acr_b\"]), axis=1\n",
    "    )\n",
    "\n",
    "    # Get the number of words\n",
    "    base_df[\"num_words_a\"] = base_df[\"name_a\"].apply(lambda x: u.get_number_words(x))\n",
    "    base_df[\"num_words_b\"] = base_df[\"name_b\"].apply(lambda x: u.get_number_words(x))\n",
    "\n",
    "    # Get the length of the strings\n",
    "    base_df[\"len_a\"] = base_df[\"name_a\"].apply(lambda x: len(str(x)))\n",
    "    base_df[\"len_b\"] = base_df[\"name_b\"].apply(lambda x: len(str(x)))\n",
    "\n",
    "    # Get Jaro Winkler distance\n",
    "    base_df[\"JW_distance\"] = base_df.apply(\n",
    "        lambda row: u.jaro_winkler_distance(row[\"name_a\"], row[\"name_b\"]), axis=1\n",
    "    )\n",
    "\n",
    "    # Get Levenshtein distance\n",
    "    base_df[\"LV_distance\"] = base_df.apply(\n",
    "        lambda row: u.levenshtein_distance(row[\"name_a\"], row[\"name_b\"]), axis=1\n",
    "    )\n",
    "\n",
    "    # Get the target\n",
    "\n",
    "    X_test = base_df[feature_columns]\n",
    "\n",
    "    base_df[\"prediction\"] = trained_model.predict(X_test)\n",
    "    base_df[\"prediction_proba\"] = trained_model.predict_proba(X_test)[:, 1]\n",
    "\n",
    "    return base_df"
   ]
  },
  {
   "cell_type": "code",
   "execution_count": 21,
   "metadata": {},
   "outputs": [],
   "source": [
    "def rolling(df, window, step):\n",
    "    count = 0\n",
    "    df_length = len(df)\n",
    "    while count < (df_length - window):\n",
    "        yield count, df[count : window + count]\n",
    "        count += step\n",
    "    else:\n",
    "        yield count, df[count : window + count]"
   ]
  },
  {
   "cell_type": "markdown",
   "metadata": {},
   "source": [
    "### Load Model"
   ]
  },
  {
   "cell_type": "code",
   "execution_count": 53,
   "metadata": {},
   "outputs": [],
   "source": [
    "# load the model from disk\n",
    "loaded_model = joblib.load(\"trained_model/finalized_model.sav\")"
   ]
  },
  {
   "cell_type": "markdown",
   "metadata": {},
   "source": [
    "### Test Model Output"
   ]
  },
  {
   "cell_type": "code",
   "execution_count": 84,
   "metadata": {},
   "outputs": [
    {
     "data": {
      "text/html": [
       "<div>\n",
       "<style scoped>\n",
       "    .dataframe tbody tr th:only-of-type {\n",
       "        vertical-align: middle;\n",
       "    }\n",
       "\n",
       "    .dataframe tbody tr th {\n",
       "        vertical-align: top;\n",
       "    }\n",
       "\n",
       "    .dataframe thead th {\n",
       "        text-align: right;\n",
       "    }\n",
       "</style>\n",
       "<table border=\"1\" class=\"dataframe\">\n",
       "  <thead>\n",
       "    <tr style=\"text-align: right;\">\n",
       "      <th></th>\n",
       "      <th>data_1</th>\n",
       "      <th>data_2</th>\n",
       "    </tr>\n",
       "  </thead>\n",
       "  <tbody>\n",
       "    <tr>\n",
       "      <th>45400</th>\n",
       "      <td>Yardi</td>\n",
       "      <td>BOTTICELLI CAPITAL PARTNERS</td>\n",
       "    </tr>\n",
       "    <tr>\n",
       "      <th>45401</th>\n",
       "      <td>Yardi</td>\n",
       "      <td>LNR PARTNERS GERMANY</td>\n",
       "    </tr>\n",
       "    <tr>\n",
       "      <th>45402</th>\n",
       "      <td>Yardi</td>\n",
       "      <td>NORTHEAST RONGHUI SECURITIES ASSET MANAGEMENT</td>\n",
       "    </tr>\n",
       "    <tr>\n",
       "      <th>45403</th>\n",
       "      <td>Yardi</td>\n",
       "      <td>SKADDEN ARPS SLATE MEAGHER &amp; FLOM</td>\n",
       "    </tr>\n",
       "    <tr>\n",
       "      <th>45404</th>\n",
       "      <td>Yardi</td>\n",
       "      <td>DECHERT LLP SINGAPORE</td>\n",
       "    </tr>\n",
       "    <tr>\n",
       "      <th>...</th>\n",
       "      <td>...</td>\n",
       "      <td>...</td>\n",
       "    </tr>\n",
       "    <tr>\n",
       "      <th>45995</th>\n",
       "      <td>CBRE Capital Advisors</td>\n",
       "      <td>BOOKMAKER</td>\n",
       "    </tr>\n",
       "    <tr>\n",
       "      <th>45996</th>\n",
       "      <td>CBRE Capital Advisors</td>\n",
       "      <td>GENERALI</td>\n",
       "    </tr>\n",
       "    <tr>\n",
       "      <th>45997</th>\n",
       "      <td>CBRE Capital Advisors</td>\n",
       "      <td>TITAN OPPORTUNITIES FUND</td>\n",
       "    </tr>\n",
       "    <tr>\n",
       "      <th>45998</th>\n",
       "      <td>CBRE Capital Advisors</td>\n",
       "      <td>GOTTEX FUND MANAGEMENT BOSTON</td>\n",
       "    </tr>\n",
       "    <tr>\n",
       "      <th>45999</th>\n",
       "      <td>CBRE Capital Advisors</td>\n",
       "      <td>US SECURITIES &amp; EXCHANGE COMMISSION</td>\n",
       "    </tr>\n",
       "  </tbody>\n",
       "</table>\n",
       "<p>600 rows × 2 columns</p>\n",
       "</div>"
      ],
      "text/plain": [
       "                       data_1                                         data_2\n",
       "45400                  Yardi                     BOTTICELLI CAPITAL PARTNERS\n",
       "45401                  Yardi                            LNR PARTNERS GERMANY\n",
       "45402                  Yardi   NORTHEAST RONGHUI SECURITIES ASSET MANAGEMENT\n",
       "45403                  Yardi               SKADDEN ARPS SLATE MEAGHER & FLOM\n",
       "45404                  Yardi                           DECHERT LLP SINGAPORE\n",
       "...                       ...                                            ...\n",
       "45995  CBRE Capital Advisors                                       BOOKMAKER\n",
       "45996  CBRE Capital Advisors                                        GENERALI\n",
       "45997  CBRE Capital Advisors                        TITAN OPPORTUNITIES FUND\n",
       "45998  CBRE Capital Advisors                   GOTTEX FUND MANAGEMENT BOSTON\n",
       "45999  CBRE Capital Advisors             US SECURITIES & EXCHANGE COMMISSION\n",
       "\n",
       "[600 rows x 2 columns]"
      ]
     },
     "execution_count": 84,
     "metadata": {},
     "output_type": "execute_result"
    }
   ],
   "source": [
    "test_df[45400:46000]"
   ]
  },
  {
   "cell_type": "code",
   "execution_count": null,
   "metadata": {},
   "outputs": [],
   "source": [
    "matching_df = []\n",
    "for offset, window in rolling(test_df, 10000, 10000):\n",
    "    # |     |                      |     |\n",
    "    # |     The current chunk.     |     How many rows to step at a time.\n",
    "    # The current offset index.    How many rows in each chunk.\n",
    "    # your code here\n",
    "    temp_df = predict_comparison(window, \"data_1\", \"data_2\", loaded_model)\n",
    "    temp_df = temp_df[temp_df[\"prediction\"] == 0]\n",
    "\n",
    "    \n",
    "    if not temp_df.empty:\n",
    "        temp_df.to_csv(\"calculated/matching_df__{}.csv\".format(offset))\n",
    "    \n",
    "\n",
    "    pass"
   ]
  },
  {
   "cell_type": "code",
   "execution_count": null,
   "metadata": {},
   "outputs": [],
   "source": [
    "matching_df = pd.concat(matching_df, ignore_index=False)"
   ]
  },
  {
   "cell_type": "code",
   "execution_count": null,
   "metadata": {},
   "outputs": [],
   "source": [
    "matching_df.to_csv(\"calculated/matching_df.csv\")"
   ]
  },
  {
   "cell_type": "markdown",
   "metadata": {},
   "source": [
    "#### Alternative Version"
   ]
  },
  {
   "cell_type": "code",
   "execution_count": null,
   "metadata": {},
   "outputs": [],
   "source": []
  }
 ],
 "metadata": {
  "kernelspec": {
   "display_name": "Python 3",
   "language": "python",
   "name": "python3"
  },
  "language_info": {
   "codemirror_mode": {
    "name": "ipython",
    "version": 3
   },
   "file_extension": ".py",
   "mimetype": "text/x-python",
   "name": "python",
   "nbconvert_exporter": "python",
   "pygments_lexer": "ipython3",
   "version": "3.7.3"
  }
 },
 "nbformat": 4,
 "nbformat_minor": 4
}
